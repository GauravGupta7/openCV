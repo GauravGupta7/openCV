{
 "cells": [
  {
   "cell_type": "code",
   "execution_count": 6,
   "id": "7d531e00",
   "metadata": {},
   "outputs": [],
   "source": [
    "import cv2\n",
    "import numpy as np"
   ]
  },
  {
   "cell_type": "code",
   "execution_count": 18,
   "id": "1b14a655",
   "metadata": {},
   "outputs": [],
   "source": [
    "cap = cv2.VideoCapture(0)\n",
    "ret, frame1 = cap.read()\n",
    "ret, frame2 = cap.read()"
   ]
  },
  {
   "cell_type": "code",
   "execution_count": 19,
   "id": "a21dbb95",
   "metadata": {},
   "outputs": [],
   "source": [
    "while cap.isOpened():\n",
    "    diff = cv2.absdiff(frame1, frame2)\n",
    "    gray = cv2.cvtColor(diff, cv2.COLOR_BGR2GRAY)\n",
    "    blur = cv2.GaussianBlur(gray, (5,5), 0)\n",
    "    _, thresh = cv2.threshold(blur, 20, 255, cv2.THRESH_BINARY)\n",
    "    dilated = cv2.dilate(thresh, None, iterations = 3)\n",
    "    contours, _ = cv2.findContours(dilated, cv2.RETR_TREE, cv2.CHAIN_APPROX_SIMPLE)\n",
    "    \n",
    "    # Drawing rectangles around the moving object\n",
    "    for contour in contours:\n",
    "        (x, y, w, h) = cv2.boundingRect(contour)\n",
    "        \n",
    "        # Checking the area enclosed by the contour. If less than 700 means that there are tiny motions of small \n",
    "        # objects which are not important to us. We can keep any value as per our choice. \n",
    "        if cv2.contourArea(contour) < 700:\n",
    "            continue\n",
    "        cv2.rectangle(frame1, (x, y), (x+w, y+h), (0, 255, 0), 2)\n",
    "        cv2.putText(frame1, \"Status: Movement\", (10, 20), cv2.FONT_HERSHEY_SIMPLEX, 1, (0, 255, 0), 3)\n",
    "    \n",
    "    cv2.imshow(\"feed\", frame1)\n",
    "    frame1 = frame2\n",
    "    ret, frame2 = cap.read()\n",
    "    \n",
    "    if cv2.waitKey(40) == 27:\n",
    "        break\n",
    "    \n",
    "cv2.destroyAllWindows()\n",
    "cap.release()"
   ]
  },
  {
   "cell_type": "markdown",
   "id": "21c4178d",
   "metadata": {},
   "source": [
    "* cv2.boundingRect() -> gives the details like x, y coordinates and height and width of the rectangle that can be appropriately drawn around the area of movement. "
   ]
  },
  {
   "cell_type": "markdown",
   "id": "7c303c1c",
   "metadata": {},
   "source": [
    "**What is dilation in image processing?**\n",
    "Ans: Image dilation is helpful because if you have performed erosion, then erosion already removed the white noises, but it also contracts our object. So we dilate it. Since the noise is gone, they won’t come back, but our object area increases. Dilation is useful in joining broken parts of an object.\n",
    "\n",
    "**What is cv2.RETR_TREE?**\n",
    "Ans: The mode cv2. RETR_TREE finds all the promising contour lines and reconstructs a full hierarchy of nested contours. \n",
    "\n",
    "**What is the use of GaussianBlur()?**\n",
    "Ans: GaussianBlur() is used for the removing the noise from images, generally high frequency noise. "
   ]
  }
 ],
 "metadata": {
  "kernelspec": {
   "display_name": "Python 3 (ipykernel)",
   "language": "python",
   "name": "python3"
  },
  "language_info": {
   "codemirror_mode": {
    "name": "ipython",
    "version": 3
   },
   "file_extension": ".py",
   "mimetype": "text/x-python",
   "name": "python",
   "nbconvert_exporter": "python",
   "pygments_lexer": "ipython3",
   "version": "3.8.10"
  }
 },
 "nbformat": 4,
 "nbformat_minor": 5
}
