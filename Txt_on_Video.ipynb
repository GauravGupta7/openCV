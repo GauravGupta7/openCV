{
 "cells": [
  {
   "cell_type": "code",
   "execution_count": 1,
   "id": "d2e4e4bd",
   "metadata": {},
   "outputs": [],
   "source": [
    "#The following code is used to display a piece of text on the live video"
   ]
  },
  {
   "cell_type": "code",
   "execution_count": 10,
   "id": "729138b7",
   "metadata": {},
   "outputs": [],
   "source": [
    "import cv2\n",
    "import datetime"
   ]
  },
  {
   "cell_type": "code",
   "execution_count": 9,
   "id": "df2b6ca5",
   "metadata": {},
   "outputs": [],
   "source": [
    "#this block is for writing the frame width and height on the live video\n",
    "\n",
    "cap = cv2.VideoCapture(0)\n",
    "\n",
    "#Setting the new parameters for the camera while it is on\n",
    "#We can give any arbitrary values here but camera will set the width and height as per its resolution\n",
    "cap.set(cv2.CAP_PROP_FRAME_WIDTH, 640)\n",
    "cap.set(cv2.CAP_PROP_FRAME_HEIGHT, 480)\n",
    "\n",
    "w = cap.get(cv2.CAP_PROP_FRAME_WIDTH)\n",
    "h = cap.get(cv2.CAP_PROP_FRAME_HEIGHT)\n",
    "\n",
    "font = cv2.FONT_HERSHEY_SIMPLEX\n",
    "text = 'Width = ' + str(w) + ', Height = ' + str(h)\n",
    "\n",
    "#Opening the video in a separate window\n",
    "while(cap.isOpened()):\n",
    "    ret, frame = cap.read()\n",
    "    if ret == True:\n",
    "        frame = cv2.putText(frame, text, (5,20), font, 0.5, (0,255,255), 2, cv2.LINE_AA)\n",
    "        cv2.imshow('Camera', frame)\n",
    "        if cv2.waitKey(1) == ord('q'):\n",
    "            break\n",
    "    else:\n",
    "        break\n",
    "cap.release()\n",
    "cv2.destroyAllWindows()"
   ]
  },
  {
   "cell_type": "code",
   "execution_count": 11,
   "id": "1e4ed3ee",
   "metadata": {},
   "outputs": [],
   "source": [
    "#This block is for writing the Date and Time on the live video\n",
    "\n",
    "cap = cv2.VideoCapture(0)\n",
    "\n",
    "#Setting the new parameters for the camera while it is on\n",
    "#We can give any arbitrary values here but camera will set the width and height as per its resolution\n",
    "cap.set(cv2.CAP_PROP_FRAME_WIDTH, 640)\n",
    "cap.set(cv2.CAP_PROP_FRAME_HEIGHT, 480)\n",
    "\n",
    "#Opening the video in a separate window\n",
    "while(cap.isOpened()):\n",
    "    ret, frame = cap.read()\n",
    "    if ret == True:\n",
    "        datet = str(datetime.datetime.now())\n",
    "        frame = cv2.putText(frame, datet, (5,20), font, 0.5, (0,255,255), 2, cv2.LINE_AA)\n",
    "        cv2.imshow('Camera', frame)\n",
    "        if cv2.waitKey(1) == ord('q'):\n",
    "            break\n",
    "    else:\n",
    "        break\n",
    "cap.release()\n",
    "cv2.destroyAllWindows()"
   ]
  }
 ],
 "metadata": {
  "kernelspec": {
   "display_name": "Python 3 (ipykernel)",
   "language": "python",
   "name": "python3"
  },
  "language_info": {
   "codemirror_mode": {
    "name": "ipython",
    "version": 3
   },
   "file_extension": ".py",
   "mimetype": "text/x-python",
   "name": "python",
   "nbconvert_exporter": "python",
   "pygments_lexer": "ipython3",
   "version": "3.8.10"
  }
 },
 "nbformat": 4,
 "nbformat_minor": 5
}
