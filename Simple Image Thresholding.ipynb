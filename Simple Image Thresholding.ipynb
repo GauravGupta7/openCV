{
 "cells": [
  {
   "cell_type": "code",
   "execution_count": 1,
   "metadata": {},
   "outputs": [],
   "source": [
    "import cv2\n",
    "import numpy as np"
   ]
  },
  {
   "cell_type": "code",
   "execution_count": 5,
   "metadata": {},
   "outputs": [],
   "source": [
    "\"\"\"Thresholding is a process in which a certain threshold value is set and the pixels falling in that range of\n",
    "   values are selected.\"\"\"\n",
    "\n",
    "img = cv2.imread('data/data_cv2/gradient.png', 0)\n",
    "\n",
    "\"\"\"THRESH_BINARY is one of the different types of thresholding available out there. The values falling in between\n",
    "   the given range are alotted 1 while the others are 0. Thus the name THRESH_BINARY\"\"\"\n",
    "_, th1 = cv2.threshold(img, 100, 255, cv2.THRESH_BINARY)\n",
    "cv2.imshow(\"Image\", img)\n",
    "cv2.imshow(\"TH1\", th1)\n",
    "\n",
    "\"\"\"THRESH_BINARY_INV is the inverse of THRESH_BINARY.\"\"\"\n",
    "_, th2 = cv2.threshold(img, 100, 255, cv2.THRESH_BINARY_INV)\n",
    "cv2.imshow(\"TH2\", th2)\n",
    "\n",
    "_, th3 = cv2.threshold(img, 200, 255, cv2.THRESH_TRUNC)\n",
    "cv2.imshow(\"TH3\", th3)\n",
    "\n",
    "cv2.waitKey(0)\n",
    "cv2.destroyAllWindows()"
   ]
  }
 ],
 "metadata": {
  "kernelspec": {
   "display_name": "Python 3",
   "language": "python",
   "name": "python3"
  },
  "language_info": {
   "codemirror_mode": {
    "name": "ipython",
    "version": 3
   },
   "file_extension": ".py",
   "mimetype": "text/x-python",
   "name": "python",
   "nbconvert_exporter": "python",
   "pygments_lexer": "ipython3",
   "version": "3.7.3"
  }
 },
 "nbformat": 4,
 "nbformat_minor": 5
}
