{
 "cells": [
  {
   "cell_type": "code",
   "execution_count": 1,
   "id": "d7a6e6a1",
   "metadata": {},
   "outputs": [],
   "source": [
    "import numpy as np\n",
    "import cv2"
   ]
  },
  {
   "cell_type": "code",
   "execution_count": 4,
   "id": "d63c59f7",
   "metadata": {},
   "outputs": [],
   "source": [
    "img = cv2.imread(\"data/data_cv2/shapes.png\")\n",
    "gray_img = cv2.cvtColor(img, cv2.COLOR_BGR2GRAY)\n",
    "_, thresh = cv2.threshold(gray_img, 240, 255, cv2.THRESH_BINARY)\n",
    "contours, _ = cv2.findContours(thresh, cv2.RETR_TREE, cv2.CHAIN_APPROX_NONE)"
   ]
  },
  {
   "cell_type": "code",
   "execution_count": 10,
   "id": "7c4dfcec",
   "metadata": {},
   "outputs": [],
   "source": [
    "for contour in contours:\n",
    "    approx = cv2.approxPolyDP(contour, 0.01* cv2.arcLength(contour, True), True)\n",
    "    cv2.drawContours(img, [approx], 0, (0,0,0), 5)\n",
    "    x = approx.ravel()[0]\n",
    "    y = approx.ravel()[1]\n",
    "    \n",
    "    if len(approx) == 3:\n",
    "        cv2.putText(img, \"Triangle\", (x,y), cv2.FONT_HERSHEY_SIMPLEX, 0.5, (0,0,0))\n",
    "    \n",
    "    elif len(approx) == 4:\n",
    "        x, y, w, h = cv2.boundingRect(approx)\n",
    "        aspectRatio = float(w)/h\n",
    "        if aspectRatio >= 0.95 and aspectRatio <= 1.05:\n",
    "            cv2.putText(img, \"Square\", (x,y), cv2.FONT_HERSHEY_SIMPLEX, 0.5, (0,0,0))\n",
    "        else:\n",
    "            cv2.putText(img, \"Rectangle\", (x,y), cv2.FONT_HERSHEY_SIMPLEX, 0.5, (0,0,0))\n",
    "    \n",
    "    elif len(approx) == 5:\n",
    "        cv2.putText(img, \"Pentagon\", (x,y), cv2.FONT_HERSHEY_SIMPLEX, 0.5, (0,0,0))\n",
    "        \n",
    "    elif len(approx) == 6:\n",
    "        cv2.putText(img, \"Hexagon\", (x,y), cv2.FONT_HERSHEY_SIMPLEX, 0.5, (0,0,0))\n",
    "    \n",
    "    elif len(approx) == 10:\n",
    "        cv2.putText(img, \"Star Shape\", (x,y), cv2.FONT_HERSHEY_SIMPLEX, 0.5, (0,0,0))\n",
    "    \n",
    "    else:\n",
    "        cv2.putText(img, \"Circle\", (x,y), cv2.FONT_HERSHEY_SIMPLEX, 0.5, (0,0,0))"
   ]
  },
  {
   "cell_type": "code",
   "execution_count": 11,
   "id": "2ad08e25",
   "metadata": {},
   "outputs": [],
   "source": [
    "cv2.imshow(\"Original\", img)\n",
    "cv2.imshow(\"GrayScale\",gray_img)\n",
    "cv2.waitKey(0)\n",
    "cv2.destroyAllWindows()"
   ]
  }
 ],
 "metadata": {
  "kernelspec": {
   "display_name": "Python 3 (ipykernel)",
   "language": "python",
   "name": "python3"
  },
  "language_info": {
   "codemirror_mode": {
    "name": "ipython",
    "version": 3
   },
   "file_extension": ".py",
   "mimetype": "text/x-python",
   "name": "python",
   "nbconvert_exporter": "python",
   "pygments_lexer": "ipython3",
   "version": "3.8.10"
  }
 },
 "nbformat": 4,
 "nbformat_minor": 5
}
