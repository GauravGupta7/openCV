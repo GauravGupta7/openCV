{
 "cells": [
  {
   "cell_type": "markdown",
   "id": "9e78e664",
   "metadata": {},
   "source": [
    "## Hough Transform\n",
    "The Hough Transform is a popular technique to detect any shape, if you can represent that shape in a mathematical form. It can detect the shape even if it is broken or distorted a little bit.   \n",
    "  \n",
    "OpenCV implements two kinds of Hough Line Transforms:\n",
    "* The standard hough Transform (HoughLines Method)\n",
    "* The probabilistic hough line transform (HoughLinesP method)\n",
    "\n",
    "*Basically we can say that It is used to detect lines in image*\n",
    "\n",
    "## The Algorithm:\n",
    "The algorithm for Hough Transformation involves the following steps:\n",
    "1. Edge Detection, e.g. using the Canny Edge Detector.\n",
    "2. Mapping of edge points to the Hough space and storage in an accumulator. \n",
    "3. Interpretation of the accumulator to yield lines of infinite length. The interpretation is done by thresholding and possibly other constraints. \n",
    "4. Conversion of infinite lines to finite lines. "
   ]
  },
  {
   "cell_type": "markdown",
   "id": "f5c84b7d",
   "metadata": {},
   "source": [
    "# The Standard Hough Transform"
   ]
  },
  {
   "cell_type": "code",
   "execution_count": 1,
   "id": "340f5f4f",
   "metadata": {},
   "outputs": [],
   "source": [
    "import cv2\n",
    "import numpy as np"
   ]
  },
  {
   "cell_type": "code",
   "execution_count": 19,
   "id": "612b2d4a",
   "metadata": {},
   "outputs": [],
   "source": [
    "img = cv2.imread(\"data/data_cv2/sudoku.png\")\n",
    "img1 = img.copy()\n",
    "img_gray = cv2.cvtColor(img, cv2.COLOR_BGR2GRAY)\n",
    "edges = cv2.Canny(img_gray, 50, 150, apertureSize = 3)\n",
    "lines = cv2.HoughLines(edges, 1, np.pi/180, 200)"
   ]
  },
  {
   "cell_type": "code",
   "execution_count": 6,
   "id": "d76be000",
   "metadata": {},
   "outputs": [],
   "source": [
    "for line in lines:\n",
    "    rho, theta = line[0]\n",
    "    a = np.cos(theta)\n",
    "    b = np.sin(theta)\n",
    "    x0 = a * rho\n",
    "    y0 = b * rho\n",
    "    \n",
    "    #storing the rounded off value of (r*cos(theta)-1000*sin(theta))\n",
    "    x1 = int(x0 + 1000 * (-b))\n",
    "    \n",
    "    #storing the rounded off value of (r*sin(theta)+1000*cos(theta))\n",
    "    y1 = int(y0 + 1000 * (a))\n",
    "    \n",
    "    #storing the rounded off value of (r*cos(theta)+1000*sin(theta))\n",
    "    x2 = int(x0 - 1000 * (-b))\n",
    "    \n",
    "    #storing the rounded off value of (r*sin(theta)-1000*cos(theta))\n",
    "    y2 = int(y0 - 1000 * (a))\n",
    "    \n",
    "    cv2.line(img, (x1,y1), (x2,y2), (0,0,255), 2)"
   ]
  },
  {
   "cell_type": "code",
   "execution_count": 9,
   "id": "9902b0ce",
   "metadata": {},
   "outputs": [],
   "source": [
    "cv2.imshow(\"image\", img)  \n",
    "cv2.imshow(\"edges\", edges)\n",
    "cv2.waitKey(0)\n",
    "cv2.destroyAllWindows()"
   ]
  },
  {
   "cell_type": "markdown",
   "id": "b76283aa",
   "metadata": {},
   "source": [
    "# The Probabilistic Hough Line Transform"
   ]
  },
  {
   "cell_type": "code",
   "execution_count": 21,
   "id": "418eb63f",
   "metadata": {},
   "outputs": [],
   "source": [
    "linesP = cv2.HoughLinesP(edges, 1, np.pi/180, 100, minLineLength = 100, maxLineGap = 10)"
   ]
  },
  {
   "cell_type": "code",
   "execution_count": 22,
   "id": "2b1708c3",
   "metadata": {},
   "outputs": [],
   "source": [
    "for lineP in linesP:\n",
    "    x1,y1,x2,y2 = lineP[0]\n",
    "    cv2.line(img1, (x1,y1), (x2,y2), (0,255,0), 2)"
   ]
  },
  {
   "cell_type": "code",
   "execution_count": 23,
   "id": "d7a2a1dd",
   "metadata": {},
   "outputs": [],
   "source": [
    "cv2.imshow('image', img1)\n",
    "cv2.waitKey(0)\n",
    "cv2.destroyAllWindows()"
   ]
  }
 ],
 "metadata": {
  "kernelspec": {
   "display_name": "Python 3 (ipykernel)",
   "language": "python",
   "name": "python3"
  },
  "language_info": {
   "codemirror_mode": {
    "name": "ipython",
    "version": 3
   },
   "file_extension": ".py",
   "mimetype": "text/x-python",
   "name": "python",
   "nbconvert_exporter": "python",
   "pygments_lexer": "ipython3",
   "version": "3.8.10"
  }
 },
 "nbformat": 4,
 "nbformat_minor": 5
}
