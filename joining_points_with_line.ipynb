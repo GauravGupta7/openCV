{
 "cells": [
  {
   "cell_type": "code",
   "execution_count": 2,
   "id": "05448747",
   "metadata": {},
   "outputs": [],
   "source": [
    "#This code is to add points to an image and then join them using a straight line. \n",
    "import numpy as np\n",
    "import cv2"
   ]
  },
  {
   "cell_type": "code",
   "execution_count": 8,
   "id": "cf7c774d",
   "metadata": {},
   "outputs": [],
   "source": [
    "def click_events(event, x, y, flag, param):\n",
    "    \n",
    "    if event == cv2.EVENT_LBUTTONDOWN:\n",
    "        cv2.circle(img, (x,y), 3, (0,0,255), -1)  #to write a small solid circle (point) on the image\n",
    "        points.append((x,y))  #Add the points of mouse click to an array\n",
    "        \n",
    "        if len(points)>=2:   #Since points can be joined only when there are two or more points\n",
    "            cv2.line(img, points[-1], points[-2], (255,0,0), 2)  #to join the last two points using a line\n",
    "        cv2.imshow('image', img)\n",
    "        \n",
    "points = []\n",
    "img = cv2.imread('data/data_cv2/lena.jpg', -1)\n",
    "cv2.imshow('image', img)\n",
    "cv2.setMouseCallback('image', click_events) #this statement checks when the mouse button is pressed on 'image' win.\n",
    "cv2.waitKey(0)\n",
    "cv2.destroyAllWindows()"
   ]
  }
 ],
 "metadata": {
  "kernelspec": {
   "display_name": "Python 3 (ipykernel)",
   "language": "python",
   "name": "python3"
  },
  "language_info": {
   "codemirror_mode": {
    "name": "ipython",
    "version": 3
   },
   "file_extension": ".py",
   "mimetype": "text/x-python",
   "name": "python",
   "nbconvert_exporter": "python",
   "pygments_lexer": "ipython3",
   "version": "3.8.10"
  }
 },
 "nbformat": 4,
 "nbformat_minor": 5
}
