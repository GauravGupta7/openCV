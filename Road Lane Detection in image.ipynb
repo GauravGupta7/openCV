{
 "cells": [
  {
   "cell_type": "markdown",
   "id": "8d94a51c",
   "metadata": {},
   "source": [
    "# Step 1: Getting the region of interest"
   ]
  },
  {
   "cell_type": "code",
   "execution_count": 68,
   "id": "2d4145f0",
   "metadata": {},
   "outputs": [],
   "source": [
    "import matplotlib.pyplot as plt\n",
    "import cv2\n",
    "import numpy as np"
   ]
  },
  {
   "cell_type": "code",
   "execution_count": 69,
   "id": "2151c56a",
   "metadata": {},
   "outputs": [],
   "source": [
    "def region_of_interest(img, vertices):\n",
    "    mask = np.zeros_like(img)  # Creating a matrix of size like img\n",
    "    # channel_count = img.shape[2]\n",
    "    match_mask_color =  255\n",
    "    cv2.fillPoly(mask, vertices, match_mask_color)\n",
    "    masked_image = cv2.bitwise_and(img, mask)\n",
    "    return masked_image"
   ]
  },
  {
   "cell_type": "code",
   "execution_count": 70,
   "id": "1b0786d6",
   "metadata": {},
   "outputs": [],
   "source": [
    "image = cv2.imread(\"data/data_cv2/road.jpeg\")\n",
    "image = cv2.cvtColor(image, cv2.COLOR_BGR2RGB)"
   ]
  },
  {
   "cell_type": "code",
   "execution_count": 71,
   "id": "bf38ea8a",
   "metadata": {},
   "outputs": [],
   "source": [
    "height = image.shape[0]\n",
    "width = image.shape[1]"
   ]
  },
  {
   "cell_type": "code",
   "execution_count": 72,
   "id": "6537cf63",
   "metadata": {},
   "outputs": [],
   "source": [
    "region_of_interest_vertices = [\n",
    "    (400,height),\n",
    "    (width/2, height/2),\n",
    "    (width, height)]"
   ]
  },
  {
   "cell_type": "code",
   "execution_count": 73,
   "id": "eb8d05a9",
   "metadata": {},
   "outputs": [],
   "source": [
    "# Converting to gray scale\n",
    "gray_img = cv2.cvtColor(image, cv2.COLOR_BGR2GRAY)"
   ]
  },
  {
   "cell_type": "code",
   "execution_count": 74,
   "id": "fc910be9",
   "metadata": {},
   "outputs": [],
   "source": [
    "# Applying Canny Edge Detection\n",
    "canny_image = cv2.Canny(gray_img, 100, 200)"
   ]
  },
  {
   "cell_type": "code",
   "execution_count": 75,
   "id": "22484ff0",
   "metadata": {},
   "outputs": [],
   "source": [
    "cropped_image = region_of_interest(canny_image, \n",
    "                np.array([region_of_interest_vertices], np.int32))"
   ]
  },
  {
   "cell_type": "code",
   "execution_count": 76,
   "id": "151f2183",
   "metadata": {},
   "outputs": [
    {
     "data": {
      "image/png": "[encoded data removed]",
      "text/plain": [
       "<Figure size 432x288 with 1 Axes>"
      ]
     },
     "metadata": {
      "needs_background": "light"
     },
     "output_type": "display_data"
    }
   ],
   "source": [
    "plt.imshow(cropped_image)\n",
    "plt.show()"
   ]
  },
  {
   "cell_type": "markdown",
   "id": "b44f3fb8",
   "metadata": {},
   "source": [
    "# Drawing Lines Using Hough Line Transform"
   ]
  },
  {
   "cell_type": "code",
   "execution_count": 82,
   "id": "d1b6a885",
   "metadata": {},
   "outputs": [],
   "source": [
    "def draw_the_lines(img, lines):\n",
    "    img = np.copy(img)\n",
    "    blank_image = np.zeros((img.shape[0], img.shape[1], 3),\n",
    "                         dtype = np.uint8)\n",
    "    for line in lines:\n",
    "        for x1, y1, x2, y2 in line:\n",
    "            cv2.line(blank_image,\n",
    "                     (x1,y1), (x2,y2),\n",
    "                     (0,255,0),\n",
    "                     thickness = 3)\n",
    "    img = cv2.addWeighted(img, 0.8, blank_image, 1, 0.0)\n",
    "    return img"
   ]
  },
  {
   "cell_type": "code",
   "execution_count": 83,
   "id": "88f620d4",
   "metadata": {},
   "outputs": [],
   "source": [
    "lines = cv2.HoughLinesP(cropped_image,\n",
    "                        rho = 6, \n",
    "                        theta = np.pi/60,\n",
    "                        threshold = 160,\n",
    "                        lines = np.array([]),\n",
    "                        minLineLength = 40,\n",
    "                        maxLineGap = 25)"
   ]
  },
  {
   "cell_type": "code",
   "execution_count": 84,
   "id": "3b854487",
   "metadata": {},
   "outputs": [],
   "source": [
    "image_with_lines = draw_the_lines(image, lines)\n",
    "cv2.imshow(\"image\",image_with_lines)\n",
    "cv2.waitKey(0)\n",
    "cv2.destroyAllWindows()"
   ]
  }
 ],
 "metadata": {
  "kernelspec": {
   "display_name": "Python 3 (ipykernel)",
   "language": "python",
   "name": "python3"
  },
  "language_info": {
   "codemirror_mode": {
    "name": "ipython",
    "version": 3
   },
   "file_extension": ".py",
   "mimetype": "text/x-python",
   "name": "python",
   "nbconvert_exporter": "python",
   "pygments_lexer": "ipython3",
   "version": "3.8.10"
  }
 },
 "nbformat": 4,
 "nbformat_minor": 5
}
