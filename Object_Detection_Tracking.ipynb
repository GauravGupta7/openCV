{
 "cells": [
  {
   "cell_type": "code",
   "execution_count": 1,
   "id": "eec7b35b",
   "metadata": {},
   "outputs": [],
   "source": [
    "#This Code is to detect an object from an image. The object can be of any color. We decide the color of object \n",
    "\n",
    "import cv2\n",
    "import numpy as np"
   ]
  },
  {
   "cell_type": "code",
   "execution_count": 2,
   "id": "512420aa",
   "metadata": {},
   "outputs": [],
   "source": [
    "def nothing(x):\n",
    "    pass"
   ]
  },
  {
   "cell_type": "code",
   "execution_count": 3,
   "id": "fced9b80",
   "metadata": {},
   "outputs": [
    {
     "name": "stderr",
     "output_type": "stream",
     "text": [
      "[ WARN:0] global /tmp/pip-req-build-afu9cjzs/opencv/modules/highgui/src/window.cpp (703) createTrackbar UI/Trackbar(LH@Tracking): Using 'value' pointer is unsafe and deprecated. Use NULL as value pointer. To fetch trackbar value setup callback.\n",
      "[ WARN:0] global /tmp/pip-req-build-afu9cjzs/opencv/modules/highgui/src/window.cpp (703) createTrackbar UI/Trackbar(LS@Tracking): Using 'value' pointer is unsafe and deprecated. Use NULL as value pointer. To fetch trackbar value setup callback.\n",
      "[ WARN:0] global /tmp/pip-req-build-afu9cjzs/opencv/modules/highgui/src/window.cpp (703) createTrackbar UI/Trackbar(LV@Tracking): Using 'value' pointer is unsafe and deprecated. Use NULL as value pointer. To fetch trackbar value setup callback.\n",
      "[ WARN:0] global /tmp/pip-req-build-afu9cjzs/opencv/modules/highgui/src/window.cpp (703) createTrackbar UI/Trackbar(UH@Tracking): Using 'value' pointer is unsafe and deprecated. Use NULL as value pointer. To fetch trackbar value setup callback.\n",
      "[ WARN:0] global /tmp/pip-req-build-afu9cjzs/opencv/modules/highgui/src/window.cpp (703) createTrackbar UI/Trackbar(US@Tracking): Using 'value' pointer is unsafe and deprecated. Use NULL as value pointer. To fetch trackbar value setup callback.\n",
      "[ WARN:0] global /tmp/pip-req-build-afu9cjzs/opencv/modules/highgui/src/window.cpp (703) createTrackbar UI/Trackbar(UV@Tracking): Using 'value' pointer is unsafe and deprecated. Use NULL as value pointer. To fetch trackbar value setup callback.\n"
     ]
    }
   ],
   "source": [
    "#Creating a trackbar window where we can adjust the values for specific color/object detection\n",
    "#HSV ---> Hue, Saturation, Value; It is a color scheme like BGR used in object detection\n",
    "#LH ---> Lower Hue ---> Lower limit of Hue\n",
    "#UH ---> Upper Hue ---> Upper limit of Hue\n",
    "cv2.namedWindow(\"Tracking\")\n",
    "cv2.createTrackbar(\"LH\", \"Tracking\", 0, 255, nothing)\n",
    "cv2.createTrackbar(\"LS\", \"Tracking\", 0, 255, nothing)\n",
    "cv2.createTrackbar(\"LV\", \"Tracking\", 0, 255, nothing)\n",
    "cv2.createTrackbar(\"UH\", \"Tracking\", 255, 255, nothing)\n",
    "cv2.createTrackbar(\"US\", \"Tracking\", 255, 255, nothing)\n",
    "cv2.createTrackbar(\"UV\", \"Tracking\", 255, 255, nothing)\n",
    "\n",
    "while True:\n",
    "    frame = cv2.imread('data/data_cv2/smarties.png')\n",
    "    \n",
    "    #Converting the color scheme of 'frame' from BGR to HSV for object detection\n",
    "    hsv = cv2.cvtColor(frame, cv2.COLOR_BGR2HSV)\n",
    "    \n",
    "    #Getting the trackbar positions(values) for the lower limits in current adjustment\n",
    "    l_h = cv2.getTrackbarPos(\"LH\", \"Tracking\")\n",
    "    l_s = cv2.getTrackbarPos(\"LS\", \"Tracking\")\n",
    "    l_v = cv2.getTrackbarPos(\"LV\", \"Tracking\")\n",
    "    \n",
    "    #Getting the trackbar positions(values) for the upper limits in current adjustment\n",
    "    u_h = cv2.getTrackbarPos(\"UH\", \"Tracking\")\n",
    "    u_s = cv2.getTrackbarPos(\"US\", \"Tracking\")\n",
    "    u_v = cv2.getTrackbarPos(\"UV\", \"Tracking\")\n",
    "\n",
    "    #Defining the range of color i.e. upper bound and lower bound\n",
    "    l_b = np.array([l_h, l_s, l_v])\n",
    "    u_b = np.array([u_h, u_s, u_v])\n",
    "    \n",
    "    #Creating a mask to detect the object whose HSV values are in the above range\n",
    "    mask = cv2.inRange(hsv, l_b, u_b)\n",
    "\n",
    "    #Creating the resultant image of the detected object\n",
    "    res = cv2.bitwise_and(frame, frame, mask=mask)\n",
    "\n",
    "    cv2.imshow(\"frame\", frame)\n",
    "    cv2.imshow(\"mask\", mask)\n",
    "    cv2.imshow(\"res\", res)\n",
    "\n",
    "    key = cv2.waitKey(1)\n",
    "    if key == 27:\n",
    "        break\n",
    "        \n",
    "cv2.destroyAllWindows()"
   ]
  }
 ],
 "metadata": {
  "kernelspec": {
   "display_name": "Python 3 (ipykernel)",
   "language": "python",
   "name": "python3"
  },
  "language_info": {
   "codemirror_mode": {
    "name": "ipython",
    "version": 3
   },
   "file_extension": ".py",
   "mimetype": "text/x-python",
   "name": "python",
   "nbconvert_exporter": "python",
   "pygments_lexer": "ipython3",
   "version": "3.8.10"
  }
 },
 "nbformat": 4,
 "nbformat_minor": 5
}
