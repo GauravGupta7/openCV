{
 "cells": [
  {
   "cell_type": "markdown",
   "id": "f245b016",
   "metadata": {},
   "source": [
    "## Blending\n",
    "Blending is the merging of two different images into one. It can be horizontal blending or vertical blending. But, blending, generally is the gradual blending and there isn't any sharp line of distinction between the two images. \n",
    "\n",
    "At first, we will try simple blending, where there is a sharp line of distinction between the two joined images."
   ]
  },
  {
   "cell_type": "code",
   "execution_count": 2,
   "id": "49257cb5",
   "metadata": {},
   "outputs": [],
   "source": [
    "import cv2\n",
    "import numpy as np"
   ]
  },
  {
   "cell_type": "code",
   "execution_count": 3,
   "id": "6cb66639",
   "metadata": {},
   "outputs": [],
   "source": [
    "apple = cv2.imread('data/data_cv2/apple.jpg')\n",
    "orange = cv2.imread('data/data_cv2/orange.jpg')"
   ]
  },
  {
   "cell_type": "code",
   "execution_count": 4,
   "id": "b73a7a80",
   "metadata": {},
   "outputs": [
    {
     "name": "stdout",
     "output_type": "stream",
     "text": [
      "(512, 512, 3)\n",
      "(512, 512, 3)\n"
     ]
    }
   ],
   "source": [
    "print(apple.shape)\n",
    "print(orange.shape)"
   ]
  },
  {
   "cell_type": "code",
   "execution_count": 5,
   "id": "88bb51f1",
   "metadata": {},
   "outputs": [],
   "source": [
    "#Blending the left part of apple with right part of orange using hstack()\n",
    "apple_orange = np.hstack((apple[:,:256], orange[:,256:]))\n",
    "cv2.imshow('apple', apple)\n",
    "cv2.imshow('Orange', orange)\n",
    "cv2.imshow('apple_orange', apple_orange)\n",
    "cv2.waitKey(0)\n",
    "cv2.destroyAllWindows()"
   ]
  },
  {
   "cell_type": "markdown",
   "id": "15a7c0bb",
   "metadata": {},
   "source": [
    "Using the above piece of code we see that the images are just joined but not perfectly blended. That is, we can see a sharp line of demarcation between the two images. \n",
    "\n",
    "Now we will try to blend the images using **image pyramids technique**. \n",
    "\n",
    "The steps involved are as follows:\n",
    "1. Load the two images to be blended.\n",
    "2. Find the **Gaussian Pyramids** for the 2 images (apple and orange here, the number of levels here is 6).\n",
    "3. From Gaussain Pyramids find their Laplacian Pyramids. \n",
    "4. Now join the images at each individual level of the pyramids. \n",
    "5. Finally, from this joint image pyramids, reconstruct the original image. "
   ]
  },
  {
   "cell_type": "code",
   "execution_count": 9,
   "id": "d695f2c9",
   "metadata": {},
   "outputs": [],
   "source": [
    "# Generating Gaussian Pyramid for apple:\n",
    "apple_copy = apple.copy()\n",
    "gpyramid_apple = [apple_copy]\n",
    "for i in range(6):\n",
    "    apple_copy = cv2.pyrDown(apple_copy)\n",
    "    gpyramid_apple.append(apple_copy)\n",
    "\n",
    "    \n",
    "# Generating Gaussian Pyramid for orange:\n",
    "orange_copy = orange.copy()\n",
    "gpyramid_orange = [orange_copy]\n",
    "for i in range(6):\n",
    "    orange_copy = cv2.pyrDown(orange_copy)\n",
    "    gpyramid_orange.append(orange_copy)\n",
    "    \n",
    "    \n",
    "# Generating Laplacian Pyramid for apple:\n",
    "apple_copy = gpyramid_apple[5]\n",
    "lpyramid_apple = [apple_copy]\n",
    "for i in range(5,0,-1):\n",
    "    gaussian_expanded_apple = cv2.pyrUp(gpyramid_apple[i])\n",
    "    laplacian = cv2.subtract(gpyramid_apple[i-1], gaussian_expanded_apple)\n",
    "    lpyramid_apple.append(laplacian)\n",
    "    \n",
    "    \n",
    "# Generating Laplacian Pyramid for orange:\n",
    "orange_copy = gpyramid_orange[5]\n",
    "lpyramid_orange = [orange_copy]\n",
    "for i in range(5,0,-1):\n",
    "    gaussian_expanded_orange = cv2.pyrUp(gpyramid_orange[i])\n",
    "    laplacian = cv2.subtract(gpyramid_orange[i-1], gaussian_expanded_orange)\n",
    "    lpyramid_orange.append(laplacian)\n",
    "    \n",
    "    \n",
    "# Now joining the halves of these two images in each level\n",
    "apple_orange_pyramid = []\n",
    "n = 0\n",
    "for apple_lap, orange_lap in zip(lpyramid_apple, lpyramid_orange):\n",
    "    n = n + 1\n",
    "    columns, rows, channels = apple_lap.shape\n",
    "    joint_laplacian = np.hstack((apple_lap[:,:int(columns/2)], orange_lap[:,int(columns/2):]))\n",
    "    apple_orange_pyramid.append(joint_laplacian)\n",
    "    \n",
    "    \n",
    "# Now reconstructing the original image\n",
    "apple_orange_reconstructed = apple_orange_pyramid[0]\n",
    "for i in range(1,6):\n",
    "    apple_orange_reconstructed = cv2.pyrUp(apple_orange_reconstructed)\n",
    "    apple_orange_reconstructed = cv2.add(apple_orange_pyramid[i], apple_orange_reconstructed)\n",
    "    \n",
    "\n",
    "cv2.imshow('apple', apple)\n",
    "cv2.imshow('Orange', orange)\n",
    "cv2.imshow('apple_orange', apple_orange)\n",
    "cv2.imshow('Apple orange blend', apple_orange_reconstructed)\n",
    "cv2.waitKey(0)\n",
    "cv2.destroyAllWindows()"
   ]
  }
 ],
 "metadata": {
  "kernelspec": {
   "display_name": "Python 3 (ipykernel)",
   "language": "python",
   "name": "python3"
  },
  "language_info": {
   "codemirror_mode": {
    "name": "ipython",
    "version": 3
   },
   "file_extension": ".py",
   "mimetype": "text/x-python",
   "name": "python",
   "nbconvert_exporter": "python",
   "pygments_lexer": "ipython3",
   "version": "3.8.10"
  }
 },
 "nbformat": 4,
 "nbformat_minor": 5
}
