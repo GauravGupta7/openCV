{
 "cells": [
  {
   "cell_type": "code",
   "execution_count": null,
   "id": "2e645a5a",
   "metadata": {},
   "outputs": [],
   "source": [
    "#The code snippets available here are for drawing various geometrical shapes on the image"
   ]
  },
  {
   "cell_type": "code",
   "execution_count": 1,
   "id": "7dcb325e",
   "metadata": {},
   "outputs": [],
   "source": [
    "import cv2\n",
    "import numpy as np"
   ]
  },
  {
   "cell_type": "code",
   "execution_count": 2,
   "id": "cab5b204",
   "metadata": {},
   "outputs": [],
   "source": [
    "#Code for drawing line on the image\n",
    "image = cv2.imread('data/data_cv2/lena.jpg', -1)\n",
    "image = cv2.line(image, (0,255), (255, 255), (255,0,0), 5)\n",
    "image = cv2.arrowedLine(image, (255,0), (255, 255), (255,255,0), 5)\n",
    "cv2.imshow('image', image)\n",
    "cv2.waitKey(0)\n",
    "cv2.destroyAllWindows()"
   ]
  },
  {
   "cell_type": "code",
   "execution_count": 3,
   "id": "598a20be",
   "metadata": {},
   "outputs": [],
   "source": [
    "#For Drawing rectangle\n",
    "image = cv2.imread('data/data_cv2/lena.jpg', -1)\n",
    "image = cv2.rectangle(image, (120,120), (255, 255), (0,0,255), 5)\n",
    "cv2.imshow('image', image)\n",
    "cv2.waitKey(0)\n",
    "cv2.destroyAllWindows()"
   ]
  },
  {
   "cell_type": "code",
   "execution_count": 4,
   "id": "4677302b",
   "metadata": {},
   "outputs": [],
   "source": [
    "#For drawing solid rectangle\n",
    "image = cv2.imread('data/data_cv2/lena.jpg', -1)\n",
    "image = cv2.rectangle(image, (120,120), (255, 255), (0,0,255), -1)\n",
    "cv2.imshow('image', image)\n",
    "cv2.waitKey(0)\n",
    "cv2.destroyAllWindows()"
   ]
  },
  {
   "cell_type": "code",
   "execution_count": 5,
   "id": "5c4fc81a",
   "metadata": {},
   "outputs": [],
   "source": [
    "#For drawing circle\n",
    "image = cv2.imread('data/data_cv2/lena.jpg', -1)\n",
    "image = cv2.circle(image, (155,155), 30, (255,0,0), 8)\n",
    "cv2.imshow('image', image)\n",
    "cv2.waitKey(0)\n",
    "cv2.destroyAllWindows()"
   ]
  },
  {
   "cell_type": "code",
   "execution_count": 8,
   "id": "24ad13b4",
   "metadata": {},
   "outputs": [],
   "source": [
    "#Putting text on the image\n",
    "image = cv2.imread('data/data_cv2/lena.jpg', -1)\n",
    "font = cv2.FONT_HERSHEY_SIMPLEX\n",
    "image = cv2.putText(image, 'OpenCV', (10,400), font, 3, (0,0,0), 10, cv2.LINE_AA)\n",
    "cv2.imshow('image', image)\n",
    "cv2.waitKey(0)\n",
    "cv2.destroyAllWindows()"
   ]
  },
  {
   "cell_type": "code",
   "execution_count": 11,
   "id": "d1cae680",
   "metadata": {},
   "outputs": [],
   "source": [
    "#Creating a black image on your own using NUMPY\n",
    "img = np.zeros([512,512,3], np.uint8)\n",
    "cv2.imshow('image', img)\n",
    "cv2.waitKey(0)\n",
    "cv2.destroyAllWindows()"
   ]
  },
  {
   "cell_type": "code",
   "execution_count": null,
   "id": "b8eae04e",
   "metadata": {},
   "outputs": [],
   "source": []
  }
 ],
 "metadata": {
  "kernelspec": {
   "display_name": "Python 3 (ipykernel)",
   "language": "python",
   "name": "python3"
  },
  "language_info": {
   "codemirror_mode": {
    "name": "ipython",
    "version": 3
   },
   "file_extension": ".py",
   "mimetype": "text/x-python",
   "name": "python",
   "nbconvert_exporter": "python",
   "pygments_lexer": "ipython3",
   "version": "3.8.10"
  }
 },
 "nbformat": 4,
 "nbformat_minor": 5
}
