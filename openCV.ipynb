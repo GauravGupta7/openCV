{
 "cells": [
  {
   "cell_type": "code",
   "execution_count": 1,
   "id": "dbd672f4",
   "metadata": {},
   "outputs": [
    {
     "data": {
      "text/plain": [
       "'4.5.3'"
      ]
     },
     "execution_count": 1,
     "metadata": {},
     "output_type": "execute_result"
    }
   ],
   "source": [
    "import cv2\n",
    "cv2.__version__"
   ]
  },
  {
   "cell_type": "code",
   "execution_count": 2,
   "id": "10f3be8f",
   "metadata": {
    "scrolled": true
   },
   "outputs": [
    {
     "data": {
      "text/plain": [
       "\" elif k == ord('s'):\\n    cv2.imwrite('lena_copy.png', image)\\n    cv2.destroyAllWindows() \""
      ]
     },
     "execution_count": 2,
     "metadata": {},
     "output_type": "execute_result"
    }
   ],
   "source": [
    "image = cv2.imread('data/data_cv2/lena.jpg', -1)\n",
    "cv2.imshow('image', image)\n",
    "k = cv2.waitKey(0)\n",
    "\n",
    "#the code ahead closes the image window when 'ESC' key is pressed\n",
    "if k == 27:\n",
    "    cv2.destroyAllWindows()\n",
    "    \n",
    "#the next block of code saves a copy of the image in the current folder with the name 'lena_copy.png' when 's' is pressed\n",
    "\"\"\" elif k == ord('s'):\n",
    "    cv2.imwrite('lena_copy.png', image)\n",
    "    cv2.destroyAllWindows() \"\"\"\n",
    "\n"
   ]
  },
  {
   "cell_type": "code",
   "execution_count": 22,
   "id": "f243a1fa",
   "metadata": {},
   "outputs": [
    {
     "name": "stdout",
     "output_type": "stream",
     "text": [
      "640.0\n",
      "480.0\n"
     ]
    }
   ],
   "source": [
    "#Working with videos using camera from PC\n",
    "#creating a VideoCapture object 'cap' with device index 0 for recording the video using builtin webcam\n",
    "#The device index for builtin webcam by default is '0'\n",
    "cap = cv2.VideoCapture(0)\n",
    "\n",
    "#to save a copy the camera's recording, creating a VideoWriter object which stores the recording as 'Output.avi' at 20.0frames/sec \n",
    "fourcc = cv2.VideoWriter_fourcc(*'XVID')\n",
    "out = cv2.VideoWriter('Output.avi', fourcc, 20.0, (640,480))\n",
    "\n",
    "#Getting the frame width and height\n",
    "print(cap.get(cv2.CAP_PROP_FRAME_WIDTH))\n",
    "print(cap.get(cv2.CAP_PROP_FRAME_HEIGHT))\n",
    "\n",
    "#The isOpened() returns 'True' as long as the device captures frames and returns 'False' when it dosen't.\n",
    "while(cap.isOpened()):\n",
    "    #the read() here reads frame from the webcam into the 'frame' variable and if it reads correctly the 'True' is stored in the 'ret' variable\n",
    "    ret, frame = cap.read()\n",
    "    \n",
    "    if ret == True:\n",
    "        #the next few lines of code shows the live video in a separate window named 'Frame' and keeps streaming untill the key 'q' is pressed\n",
    "        cv2.imshow('Frame', frame)\n",
    "        \n",
    "        #Writing the frames in 'Output.avi'\n",
    "        out.write(frame)\n",
    "    \n",
    "        #the next 2 lines converts the video(stored in 'frame') into gray scale during live stream. \n",
    "        gray = cv2.cvtColor(frame, cv2.COLOR_BGR2GRAY)\n",
    "        cv2.imshow('Frame Gray', gray)\n",
    "    \n",
    "        #when 'q' key is pressed the loop is terminated and both the windows are closed\n",
    "        if cv2.waitKey(1) == ord('q'):\n",
    "            break\n",
    "    \n",
    "    else:\n",
    "        break\n",
    "\n",
    "#After the loop is terminated, we need to disconnect the webcam else we will get errors like 'Device Busy'. So, we use th .release() method.\n",
    "cap.release()\n",
    "out.release()\n",
    "cv2.destroyAllWindows()"
   ]
  }
 ],
 "metadata": {
  "kernelspec": {
   "display_name": "Python 3 (ipykernel)",
   "language": "python",
   "name": "python3"
  },
  "language_info": {
   "codemirror_mode": {
    "name": "ipython",
    "version": 3
   },
   "file_extension": ".py",
   "mimetype": "text/x-python",
   "name": "python",
   "nbconvert_exporter": "python",
   "pygments_lexer": "ipython3",
   "version": "3.8.10"
  }
 },
 "nbformat": 4,
 "nbformat_minor": 5
}
