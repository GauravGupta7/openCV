{
 "cells": [
  {
   "cell_type": "markdown",
   "id": "369d26d6",
   "metadata": {},
   "source": [
    "## Finding and Drawing Contours\n",
    "\n",
    "#### What are contours?\n",
    "Ans: Contours are curves, joining all the continuous points along the boundary which are having the same color or intensity. Contours are a useful tool for shape analysis, object detection/recognition. \n",
    "\n",
    "**For Better accuracy, binary images are used for drawing contours.**  \n",
    "\n",
    "We can apply the threshold or canny edge detection method for drawing contours"
   ]
  },
  {
   "cell_type": "code",
   "execution_count": 13,
   "id": "b9c93538",
   "metadata": {},
   "outputs": [],
   "source": [
    "import numpy as np\n",
    "import cv2"
   ]
  },
  {
   "cell_type": "code",
   "execution_count": 42,
   "id": "a6d0e583",
   "metadata": {},
   "outputs": [],
   "source": [
    "img = cv2.imread('data/data_cv2/lena.jpg')\n",
    "gray_img = cv2.cvtColor(img, cv2.COLOR_BGR2GRAY)"
   ]
  },
  {
   "cell_type": "code",
   "execution_count": 43,
   "id": "3970fdc8",
   "metadata": {},
   "outputs": [
    {
     "name": "stdout",
     "output_type": "stream",
     "text": [
      "Number of Contours: 1141\n"
     ]
    }
   ],
   "source": [
    "# Using The Threshold Method\n",
    "ret, thresh = cv2.threshold(gray_img, 127, 255, 0)\n",
    "contours, hierarchy = cv2.findContours(thresh, cv2.RETR_TREE, cv2.CHAIN_APPROX_NONE)\n",
    "\n",
    "# To see the number of contours in an image:\n",
    "print('Number of Contours: ' + str(len(contours)))"
   ]
  },
  {
   "cell_type": "markdown",
   "id": "0ae75ae3",
   "metadata": {},
   "source": [
    "**Note:** Above int the findContours() step, contours is a Python List of **all the contours in the image**. Each individual contour is a numpy array of (x,y) coordinates of boundary points of the object. "
   ]
  },
  {
   "cell_type": "code",
   "execution_count": 44,
   "id": "9a5ab911",
   "metadata": {},
   "outputs": [
    {
     "name": "stdout",
     "output_type": "stream",
     "text": [
      "\n"
     ]
    }
   ],
   "source": [
    "# Drawing the contour on the Original Image:\n",
    "cv2.drawContours(img, contours, -1, (255, 255, 0), 3)\n",
    "print()"
   ]
  },
  {
   "cell_type": "markdown",
   "id": "3b1f8e58",
   "metadata": {},
   "source": [
    "**drawContours():**\n",
    "* First Arg: Image on which the contour is to be drawn\n",
    "* Second Arg: contours variable obtained from the findContours() method\n",
    "* Third Arg: It is the index of the contour which we want to plot. -1 means plot all the detected contours. Its range is from 0 to len(contours) - 1\n",
    "* Fourth Arg: Color of the contour\n",
    "* Fifth Arg: Thickness of the contour to be drawn"
   ]
  },
  {
   "cell_type": "code",
   "execution_count": 45,
   "id": "5c69a2f5",
   "metadata": {},
   "outputs": [],
   "source": [
    "cv2.imshow('Original', img)\n",
    "cv2.imshow('B&W', gray_img)\n",
    "cv2.waitKey(0)\n",
    "cv2.destroyAllWindows()"
   ]
  }
 ],
 "metadata": {
  "kernelspec": {
   "display_name": "Python 3 (ipykernel)",
   "language": "python",
   "name": "python3"
  },
  "language_info": {
   "codemirror_mode": {
    "name": "ipython",
    "version": 3
   },
   "file_extension": ".py",
   "mimetype": "text/x-python",
   "name": "python",
   "nbconvert_exporter": "python",
   "pygments_lexer": "ipython3",
   "version": "3.8.10"
  }
 },
 "nbformat": 4,
 "nbformat_minor": 5
}
