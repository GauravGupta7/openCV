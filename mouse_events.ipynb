{
 "cells": [
  {
   "cell_type": "code",
   "execution_count": 2,
   "id": "9d653e99",
   "metadata": {},
   "outputs": [],
   "source": [
    "import numpy as np\n",
    "import cv2"
   ]
  },
  {
   "cell_type": "code",
   "execution_count": 3,
   "id": "8189a264",
   "metadata": {},
   "outputs": [
    {
     "name": "stdout",
     "output_type": "stream",
     "text": [
      "['EVENT_FLAG_ALTKEY', 'EVENT_FLAG_CTRLKEY', 'EVENT_FLAG_LBUTTON', 'EVENT_FLAG_MBUTTON', 'EVENT_FLAG_RBUTTON', 'EVENT_FLAG_SHIFTKEY', 'EVENT_LBUTTONDBLCLK', 'EVENT_LBUTTONDOWN', 'EVENT_LBUTTONUP', 'EVENT_MBUTTONDBLCLK', 'EVENT_MBUTTONDOWN', 'EVENT_MBUTTONUP', 'EVENT_MOUSEHWHEEL', 'EVENT_MOUSEMOVE', 'EVENT_MOUSEWHEEL', 'EVENT_RBUTTONDBLCLK', 'EVENT_RBUTTONDOWN', 'EVENT_RBUTTONUP']\n"
     ]
    }
   ],
   "source": [
    "\"\"\"This piece of code is to see all the different types of keywords present inside the cv2 library. \n",
    "   We are using the dir() which is an inbuilt function. Here we are filtering those keywords that denote an \n",
    "   event. Thus we are listing only the events related keywords inside the cv2 library.\"\"\"\n",
    "events = [i for i in dir(cv2) if 'EVENT' in i]\n",
    "print(events)"
   ]
  },
  {
   "cell_type": "code",
   "execution_count": null,
   "id": "bf41b90f",
   "metadata": {},
   "outputs": [
    {
     "name": "stdout",
     "output_type": "stream",
     "text": [
      "(38,43)\n",
      "(93,159)\n",
      "(323,59)\n",
      "(83,335)\n",
      "(333,191)\n",
      "(404,413)\n",
      "(288,274)\n"
     ]
    }
   ],
   "source": [
    "\"\"\"Next we are defining a callback function named as 'click_events()' which will be executed when the mouse \n",
    "   button is pressed. We will print the coordinates where the mouse is placed and the left button is clicked. \"\"\"\n",
    "\n",
    "\n",
    "def click_events(event, x, y, flag, param):\n",
    "    if event == cv2.EVENT_LBUTTONDOWN:\n",
    "        print('('+str(x)+','+str(y)+')')\n",
    "        font = cv2.FONT_HERSHEY_SIMPLEX\n",
    "        strXY = '. ('+str(x)+','+str(y)+')'\n",
    "        cv2.putText(img, strXY, (x,y), font, 0.5, (255,255,0), 2)\n",
    "        cv2.imshow('image', img)\n",
    "        \n",
    "img = np.zeros((512,512,3), np.uint8)\n",
    "cv2.imshow('image', img)\n",
    "cv2.setMouseCallback('image', click_events)   #this statement checks when the mouse button is pressed on 'image' \n",
    "cv2.waitKey(0)\n",
    "cv2.destroyAllWindows()"
   ]
  }
 ],
 "metadata": {
  "kernelspec": {
   "display_name": "Python 3 (ipykernel)",
   "language": "python",
   "name": "python3"
  },
  "language_info": {
   "codemirror_mode": {
    "name": "ipython",
    "version": 3
   },
   "file_extension": ".py",
   "mimetype": "text/x-python",
   "name": "python",
   "nbconvert_exporter": "python",
   "pygments_lexer": "ipython3",
   "version": "3.8.10"
  }
 },
 "nbformat": 4,
 "nbformat_minor": 5
}
