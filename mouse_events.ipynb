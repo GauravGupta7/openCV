{
 "cells": [
  {
   "cell_type": "code",
   "execution_count": 10,
   "id": "f049a32f",
   "metadata": {},
   "outputs": [],
   "source": [
    "import numpy as np\n",
    "import cv2"
   ]
  },
  {
   "cell_type": "code",
   "execution_count": 3,
   "id": "bef08557",
   "metadata": {},
   "outputs": [
    {
     "name": "stdout",
     "output_type": "stream",
     "text": [
      "['EVENT_FLAG_ALTKEY', 'EVENT_FLAG_CTRLKEY', 'EVENT_FLAG_LBUTTON', 'EVENT_FLAG_MBUTTON', 'EVENT_FLAG_RBUTTON', 'EVENT_FLAG_SHIFTKEY', 'EVENT_LBUTTONDBLCLK', 'EVENT_LBUTTONDOWN', 'EVENT_LBUTTONUP', 'EVENT_MBUTTONDBLCLK', 'EVENT_MBUTTONDOWN', 'EVENT_MBUTTONUP', 'EVENT_MOUSEHWHEEL', 'EVENT_MOUSEMOVE', 'EVENT_MOUSEWHEEL', 'EVENT_RBUTTONDBLCLK', 'EVENT_RBUTTONDOWN', 'EVENT_RBUTTONUP']\n"
     ]
    }
   ],
   "source": [
    "\"\"\"This piece of code is to see all the different types of keywords present inside the cv2 library. \n",
    "   We are using the dir() which is an inbuilt function. Here we are filtering those keywords that denote an \n",
    "   event. Thus we are listing only the events related keywords inside the cv2 library.\"\"\"\n",
    "events = [i for i in dir(cv2) if 'EVENT' in i]\n",
    "print(events)"
   ]
  },
  {
   "cell_type": "code",
   "execution_count": 13,
   "id": "0ed04f7e",
   "metadata": {},
   "outputs": [
    {
     "name": "stdout",
     "output_type": "stream",
     "text": [
      "(310,190)\n",
      "(155,172)\n",
      "(337,492)\n",
      "(219,139)\n",
      "(176,83)\n"
     ]
    }
   ],
   "source": [
    "\"\"\"Next we are defining a callback function named as 'click_events()' which will be executed when the mouse \n",
    "   button is pressed. We will print the coordinates where the mouse is placed and the left button is clicked. \"\"\"\n",
    "\n",
    "\n",
    "def click_events(event, x, y, flag, param):\n",
    "    \n",
    "    #Code to print coordinates of mouse click\n",
    "    if event == cv2.EVENT_LBUTTONDOWN:\n",
    "        print('('+str(x)+','+str(y)+')')\n",
    "        font = cv2.FONT_HERSHEY_SIMPLEX\n",
    "        strXY = '. ('+str(x)+','+str(y)+')'\n",
    "        cv2.putText(img, strXY, (x,y), font, 0.5, (255,255,0), 2)\n",
    "        cv2.imshow('image', img)\n",
    "    \n",
    "    #Code to print BGR of point of mouse click   \n",
    "    if event == cv2.EVENT_RBUTTONDOWN:\n",
    "        blue = img[y, x, 0]\n",
    "        green = img[y, x, 1]\n",
    "        red = img[y, x, 2]\n",
    "        font = cv2.FONT_HERSHEY_SIMPLEX\n",
    "        strBGR = '. ('+str(blue)+','+str(green)+','+str(red)+')'\n",
    "        cv2.putText(img, strBGR, (x,y), font, 0.5, (255,255,0), 2)\n",
    "        cv2.imshow('image', img)\n",
    "        \n",
    "img = cv2.imread('data/data_cv2/lena.jpg', -1)\n",
    "cv2.imshow('image', img)\n",
    "cv2.setMouseCallback('image', click_events) #this statement checks when the mouse button is pressed on 'image' win.\n",
    "cv2.waitKey(0)\n",
    "cv2.destroyAllWindows()"
   ]
  }
 ],
 "metadata": {
  "kernelspec": {
   "display_name": "Python 3 (ipykernel)",
   "language": "python",
   "name": "python3"
  },
  "language_info": {
   "codemirror_mode": {
    "name": "ipython",
    "version": 3
   },
   "file_extension": ".py",
   "mimetype": "text/x-python",
   "name": "python",
   "nbconvert_exporter": "python",
   "pygments_lexer": "ipython3",
   "version": "3.8.10"
  }
 },
 "nbformat": 4,
 "nbformat_minor": 5
}
