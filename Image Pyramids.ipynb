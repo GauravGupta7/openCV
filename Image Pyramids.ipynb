{
 "cells": [
  {
   "cell_type": "markdown",
   "id": "6bbc382a",
   "metadata": {},
   "source": [
    "### Introduction\n",
    "**Image Pyramids:** These are a type of multiscale representation in which a signal or image is subjected to repeated smoothening and subsampling.\n",
    "The resolution is decreased here. \n",
    "There are two types of image pyramids:\n",
    "* Gaussian Pyramid: Repeated filtering and subsampling of an image\n",
    "* Laplacian Pyramid: \n"
   ]
  },
  {
   "cell_type": "code",
   "execution_count": 1,
   "id": "5f48ad60",
   "metadata": {},
   "outputs": [],
   "source": [
    "import cv2\n",
    "import numpy as np"
   ]
  },
  {
   "cell_type": "markdown",
   "id": "6d242141",
   "metadata": {},
   "source": [
    "#### Gaussian Pyramid\n",
    "The Gaussian Pyramid is implemented using two functions:\n",
    "* pyrDown(): It downscales the resolution of the image, i.e., reduces the resolution. \n",
    "* pyrUp(): It upscales the resolution of the image, i.e., increases the resolution."
   ]
  },
  {
   "cell_type": "code",
   "execution_count": 2,
   "id": "2ef78195",
   "metadata": {},
   "outputs": [],
   "source": [
    "#Showing the Gaussian Pyramid:\n",
    "img = cv2.imread('data/data_cv2/lena.jpg', 0)\n",
    "\n",
    "#Applying the pyrDown multiple times to create a multiple step pyramid\n",
    "lr1 = cv2.pyrDown(img) \n",
    "lr2 = cv2.pyrDown(lr1)\n",
    "\n",
    "cv2.imshow('Original Image', img)\n",
    "cv2.imshow('PyrDown1 Image', lr1)\n",
    "cv2.imshow('PyrDown2 Image', lr2)\n",
    "cv2.waitKey(0)\n",
    "cv2.destroyAllWindows()"
   ]
  },
  {
   "cell_type": "markdown",
   "id": "2b138692",
   "metadata": {},
   "source": [
    "**NOTE**: If we use pyrUp on a pyrDown image the resultant will be slightly blur. This is because whie doing pyrDown some information is already lost. "
   ]
  },
  {
   "cell_type": "code",
   "execution_count": 4,
   "id": "8f5eee4b",
   "metadata": {},
   "outputs": [],
   "source": [
    "#Applying the pyrUp multiple times to create a multiple step pyramid\n",
    "ur1 = cv2.pyrUp(img) \n",
    "ur2 = cv2.pyrUp(ur1)\n",
    "\n",
    "cv2.imshow('Original Image', img)\n",
    "cv2.imshow('PyrUp1 Image', ur1)\n",
    "cv2.imshow('PyrUp2 Image', ur2)\n",
    "cv2.waitKey(0)\n",
    "cv2.destroyAllWindows()"
   ]
  },
  {
   "cell_type": "code",
   "execution_count": 6,
   "id": "616d5f53",
   "metadata": {},
   "outputs": [],
   "source": [
    "# Using pyrUp or pyrDown multiple times\n",
    "\n",
    "#Creating a copy of img in layer\n",
    "layer = img.copy()\n",
    "\n",
    "#Creating an array of images:\n",
    "gaussian_pyramid = [layer]\n",
    "\n",
    "#Creating pyramid of say 5 steps:\n",
    "for i in range(6):\n",
    "    layer = cv2.pyrDown(layer)\n",
    "    gaussian_pyramid.append(layer)\n",
    "    cv2.imshow(str(i), layer)\n",
    "    \n",
    "cv2.imshow(\"Original Image\", img)\n",
    "cv2.waitKey(0)\n",
    "cv2.destroyAllWindows()"
   ]
  },
  {
   "cell_type": "markdown",
   "id": "cdfec60a",
   "metadata": {},
   "source": [
    "#### Laplacian Pyramids:\n",
    "Laplacian Pyramids are formed from the Gaussian Pyramids, there is no exclusive function for Laplacian Pyramids. \n",
    "A level in Laplacian Pyramid is created by the difference between that level in the Gaussian Pyramid and expanded version of its upper level in the Gaussian Pyramid. \n",
    "\n",
    "It basically works like edge detection."
   ]
  },
  {
   "cell_type": "code",
   "execution_count": 10,
   "id": "a9b3078e",
   "metadata": {},
   "outputs": [],
   "source": [
    "layer1 = gaussian_pyramid[-1]\n",
    "laplacian_pyramid = [layer1]\n",
    "\n",
    "for i in range(5,0,-1):\n",
    "    gaussian_extended = cv2.pyrUp(gaussian_pyramid[i])\n",
    "    laplacian = cv2.subtract(gaussian_pyramid[i-1], gaussian_extended)\n",
    "    laplacian_pyramid.append(laplacian)\n",
    "    cv2.imshow(str(i), laplacian)\n",
    "    \n",
    "cv2.waitKey(0)\n",
    "cv2.destroyAllWindows()"
   ]
  }
 ],
 "metadata": {
  "kernelspec": {
   "display_name": "Python 3 (ipykernel)",
   "language": "python",
   "name": "python3"
  },
  "language_info": {
   "codemirror_mode": {
    "name": "ipython",
    "version": 3
   },
   "file_extension": ".py",
   "mimetype": "text/x-python",
   "name": "python",
   "nbconvert_exporter": "python",
   "pygments_lexer": "ipython3",
   "version": "3.8.10"
  }
 },
 "nbformat": 4,
 "nbformat_minor": 5
}
